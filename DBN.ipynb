{
  "nbformat": 4,
  "nbformat_minor": 0,
  "metadata": {
    "colab": {
      "provenance": []
    },
    "kernelspec": {
      "name": "python3",
      "display_name": "Python 3"
    },
    "language_info": {
      "name": "python"
    }
  },
  "cells": [
    {
      "cell_type": "code",
      "source": [
        "import numpy as np\n",
        "import tensorflow as tf\n",
        "from tensorflow.keras.datasets import imdb\n",
        "from tensorflow.keras.models import Sequential\n",
        "from tensorflow.keras.layers import Dense\n",
        "from tensorflow.keras.layers import Dropout\n",
        "from tensorflow.keras.layers import Activation\n",
        "from tensorflow.keras.layers import BatchNormalization\n",
        "from tensorflow.keras.optimizers import Adam"
      ],
      "metadata": {
        "id": "UikhAoPa6m5j"
      },
      "execution_count": null,
      "outputs": []
    },
    {
      "cell_type": "code",
      "source": [
        "# Load the IMDB dataset\n",
        "max_features = 5000\n",
        "(X_train, y_train), (X_test, y_test) = imdb.load_data(num_words=max_features)"
      ],
      "metadata": {
        "colab": {
          "base_uri": "https://localhost:8080/"
        },
        "id": "TlpHIlKJ73tp",
        "outputId": "78ad1626-d02e-40e0-801e-fd93068a6b49"
      },
      "execution_count": null,
      "outputs": [
        {
          "output_type": "stream",
          "name": "stdout",
          "text": [
            "Downloading data from https://storage.googleapis.com/tensorflow/tf-keras-datasets/imdb.npz\n",
            "17464789/17464789 [==============================] - 0s 0us/step\n"
          ]
        }
      ]
    },
    {
      "cell_type": "code",
      "source": [
        "# Pad sequences to a fixed length\n",
        "max_length = 100\n",
        "X_train = tf.keras.preprocessing.sequence.pad_sequences(X_train, maxlen=max_length)\n",
        "X_test = tf.keras.preprocessing.sequence.pad_sequences(X_test, maxlen=max_length)\n"
      ],
      "metadata": {
        "id": "F1gVA5l-79G9"
      },
      "execution_count": null,
      "outputs": []
    },
    {
      "cell_type": "code",
      "source": [
        "# Create the DBN model\n",
        "model = Sequential([\n",
        "    Dense(512, input_shape=(max_length,), activation='relu'),\n",
        "    BatchNormalization(),\n",
        "    Dropout(0.5),\n",
        "    Dense(256, activation='relu'),\n",
        "    BatchNormalization(),\n",
        "    Dropout(0.5),\n",
        "    Dense(1, activation='sigmoid')\n",
        "])"
      ],
      "metadata": {
        "id": "2h4_ntNw8XIC"
      },
      "execution_count": null,
      "outputs": []
    },
    {
      "cell_type": "code",
      "source": [
        "# Compile the model\n",
        "model.compile(loss='binary_crossentropy', optimizer=Adam(learning_rate=0.001), metrics=['accuracy'])\n"
      ],
      "metadata": {
        "id": "zjHkt8Y-8d0Y"
      },
      "execution_count": null,
      "outputs": []
    },
    {
      "cell_type": "code",
      "source": [
        "# Train the model\n",
        "batch_size = 64\n",
        "epochs = 50\n",
        "model.fit(X_train, y_train, batch_size=batch_size, epochs=epochs, validation_data=(X_test, y_test))"
      ],
      "metadata": {
        "colab": {
          "base_uri": "https://localhost:8080/"
        },
        "id": "Vrekwmyy8g8r",
        "outputId": "9e97a389-d0a3-4bde-f8ea-ad4a5b99c43b"
      },
      "execution_count": null,
      "outputs": [
        {
          "output_type": "stream",
          "name": "stdout",
          "text": [
            "Epoch 1/50\n",
            "391/391 [==============================] - 6s 15ms/step - loss: 0.6611 - accuracy: 0.5976 - val_loss: 0.7090 - val_accuracy: 0.5104\n",
            "Epoch 2/50\n",
            "391/391 [==============================] - 5s 12ms/step - loss: 0.6549 - accuracy: 0.6085 - val_loss: 0.7129 - val_accuracy: 0.5117\n",
            "Epoch 3/50\n",
            "391/391 [==============================] - 6s 16ms/step - loss: 0.6478 - accuracy: 0.6210 - val_loss: 0.7197 - val_accuracy: 0.5104\n",
            "Epoch 4/50\n",
            "391/391 [==============================] - 4s 11ms/step - loss: 0.6408 - accuracy: 0.6276 - val_loss: 0.7236 - val_accuracy: 0.5096\n",
            "Epoch 5/50\n",
            "391/391 [==============================] - 5s 12ms/step - loss: 0.6363 - accuracy: 0.6356 - val_loss: 0.7257 - val_accuracy: 0.5080\n",
            "Epoch 6/50\n",
            "391/391 [==============================] - 6s 15ms/step - loss: 0.6270 - accuracy: 0.6468 - val_loss: 0.7359 - val_accuracy: 0.5061\n",
            "Epoch 7/50\n",
            "391/391 [==============================] - 5s 12ms/step - loss: 0.6226 - accuracy: 0.6538 - val_loss: 0.7382 - val_accuracy: 0.5063\n",
            "Epoch 8/50\n",
            "391/391 [==============================] - 6s 16ms/step - loss: 0.6159 - accuracy: 0.6592 - val_loss: 0.7337 - val_accuracy: 0.5067\n",
            "Epoch 9/50\n",
            "391/391 [==============================] - 4s 11ms/step - loss: 0.6107 - accuracy: 0.6672 - val_loss: 0.7469 - val_accuracy: 0.5060\n",
            "Epoch 10/50\n",
            "391/391 [==============================] - 4s 11ms/step - loss: 0.6041 - accuracy: 0.6705 - val_loss: 0.7580 - val_accuracy: 0.5094\n",
            "Epoch 11/50\n",
            "391/391 [==============================] - 5s 14ms/step - loss: 0.5973 - accuracy: 0.6769 - val_loss: 0.7574 - val_accuracy: 0.5087\n",
            "Epoch 12/50\n",
            "391/391 [==============================] - 5s 14ms/step - loss: 0.5919 - accuracy: 0.6809 - val_loss: 0.7593 - val_accuracy: 0.5083\n",
            "Epoch 13/50\n",
            "391/391 [==============================] - 6s 16ms/step - loss: 0.5894 - accuracy: 0.6840 - val_loss: 0.7572 - val_accuracy: 0.5065\n",
            "Epoch 14/50\n",
            "391/391 [==============================] - 5s 12ms/step - loss: 0.5766 - accuracy: 0.6988 - val_loss: 0.7578 - val_accuracy: 0.5127\n",
            "Epoch 15/50\n",
            "391/391 [==============================] - 5s 12ms/step - loss: 0.5732 - accuracy: 0.6953 - val_loss: 0.7716 - val_accuracy: 0.5085\n",
            "Epoch 16/50\n",
            "391/391 [==============================] - 5s 14ms/step - loss: 0.5746 - accuracy: 0.6990 - val_loss: 0.7632 - val_accuracy: 0.5075\n",
            "Epoch 17/50\n",
            "391/391 [==============================] - 5s 12ms/step - loss: 0.5673 - accuracy: 0.7040 - val_loss: 0.7774 - val_accuracy: 0.5088\n",
            "Epoch 18/50\n",
            "391/391 [==============================] - 6s 14ms/step - loss: 0.5631 - accuracy: 0.7044 - val_loss: 0.7764 - val_accuracy: 0.5034\n",
            "Epoch 19/50\n",
            "391/391 [==============================] - 5s 12ms/step - loss: 0.5581 - accuracy: 0.7134 - val_loss: 0.7772 - val_accuracy: 0.5086\n",
            "Epoch 20/50\n",
            "391/391 [==============================] - 5s 12ms/step - loss: 0.5570 - accuracy: 0.7156 - val_loss: 0.7812 - val_accuracy: 0.5065\n",
            "Epoch 21/50\n",
            "391/391 [==============================] - 6s 15ms/step - loss: 0.5458 - accuracy: 0.7198 - val_loss: 0.7957 - val_accuracy: 0.5110\n",
            "Epoch 22/50\n",
            "391/391 [==============================] - 4s 11ms/step - loss: 0.5411 - accuracy: 0.7235 - val_loss: 0.7995 - val_accuracy: 0.5085\n",
            "Epoch 23/50\n",
            "391/391 [==============================] - 6s 16ms/step - loss: 0.5412 - accuracy: 0.7207 - val_loss: 0.7915 - val_accuracy: 0.5101\n",
            "Epoch 24/50\n",
            "391/391 [==============================] - 5s 12ms/step - loss: 0.5371 - accuracy: 0.7270 - val_loss: 0.7945 - val_accuracy: 0.5066\n",
            "Epoch 25/50\n",
            "391/391 [==============================] - 5s 12ms/step - loss: 0.5343 - accuracy: 0.7279 - val_loss: 0.8111 - val_accuracy: 0.5100\n",
            "Epoch 26/50\n",
            "391/391 [==============================] - 5s 14ms/step - loss: 0.5329 - accuracy: 0.7299 - val_loss: 0.8076 - val_accuracy: 0.5089\n",
            "Epoch 27/50\n",
            "391/391 [==============================] - 5s 12ms/step - loss: 0.5199 - accuracy: 0.7405 - val_loss: 0.8154 - val_accuracy: 0.5067\n",
            "Epoch 28/50\n",
            "391/391 [==============================] - 5s 14ms/step - loss: 0.5234 - accuracy: 0.7362 - val_loss: 0.8128 - val_accuracy: 0.5080\n",
            "Epoch 29/50\n",
            "391/391 [==============================] - 5s 12ms/step - loss: 0.5203 - accuracy: 0.7363 - val_loss: 0.8196 - val_accuracy: 0.5086\n",
            "Epoch 30/50\n",
            "391/391 [==============================] - 5s 12ms/step - loss: 0.5146 - accuracy: 0.7434 - val_loss: 0.8140 - val_accuracy: 0.5094\n",
            "Epoch 31/50\n",
            "391/391 [==============================] - 5s 14ms/step - loss: 0.5139 - accuracy: 0.7413 - val_loss: 0.8313 - val_accuracy: 0.5105\n",
            "Epoch 32/50\n",
            "391/391 [==============================] - 4s 11ms/step - loss: 0.5092 - accuracy: 0.7465 - val_loss: 0.8241 - val_accuracy: 0.5062\n",
            "Epoch 33/50\n",
            "391/391 [==============================] - 6s 15ms/step - loss: 0.5066 - accuracy: 0.7480 - val_loss: 0.8375 - val_accuracy: 0.5043\n",
            "Epoch 34/50\n",
            "391/391 [==============================] - 5s 12ms/step - loss: 0.5018 - accuracy: 0.7554 - val_loss: 0.8230 - val_accuracy: 0.5052\n",
            "Epoch 35/50\n",
            "391/391 [==============================] - 4s 10ms/step - loss: 0.4991 - accuracy: 0.7572 - val_loss: 0.8415 - val_accuracy: 0.5081\n",
            "Epoch 36/50\n",
            "391/391 [==============================] - 6s 14ms/step - loss: 0.5111 - accuracy: 0.7478 - val_loss: 0.8278 - val_accuracy: 0.5072\n",
            "Epoch 37/50\n",
            "391/391 [==============================] - 5s 12ms/step - loss: 0.4994 - accuracy: 0.7540 - val_loss: 0.8252 - val_accuracy: 0.5050\n",
            "Epoch 38/50\n",
            "391/391 [==============================] - 6s 15ms/step - loss: 0.4907 - accuracy: 0.7596 - val_loss: 0.8422 - val_accuracy: 0.5058\n",
            "Epoch 39/50\n",
            "391/391 [==============================] - 5s 12ms/step - loss: 0.4921 - accuracy: 0.7598 - val_loss: 0.8256 - val_accuracy: 0.5078\n",
            "Epoch 40/50\n",
            "391/391 [==============================] - 4s 11ms/step - loss: 0.4839 - accuracy: 0.7638 - val_loss: 0.8408 - val_accuracy: 0.5083\n",
            "Epoch 41/50\n",
            "391/391 [==============================] - 6s 15ms/step - loss: 0.4882 - accuracy: 0.7629 - val_loss: 0.8388 - val_accuracy: 0.5068\n",
            "Epoch 42/50\n",
            "391/391 [==============================] - 4s 11ms/step - loss: 0.4825 - accuracy: 0.7651 - val_loss: 0.8571 - val_accuracy: 0.5069\n",
            "Epoch 43/50\n",
            "391/391 [==============================] - 5s 12ms/step - loss: 0.4786 - accuracy: 0.7704 - val_loss: 0.8466 - val_accuracy: 0.5062\n",
            "Epoch 44/50\n",
            "391/391 [==============================] - 5s 14ms/step - loss: 0.4746 - accuracy: 0.7696 - val_loss: 0.8500 - val_accuracy: 0.5061\n",
            "Epoch 45/50\n",
            "391/391 [==============================] - 5s 12ms/step - loss: 0.4741 - accuracy: 0.7730 - val_loss: 0.8549 - val_accuracy: 0.5061\n",
            "Epoch 46/50\n",
            "391/391 [==============================] - 5s 14ms/step - loss: 0.4733 - accuracy: 0.7717 - val_loss: 0.8367 - val_accuracy: 0.5050\n",
            "Epoch 47/50\n",
            "391/391 [==============================] - 5s 12ms/step - loss: 0.4738 - accuracy: 0.7737 - val_loss: 0.8457 - val_accuracy: 0.5052\n",
            "Epoch 48/50\n",
            "391/391 [==============================] - 5s 12ms/step - loss: 0.4693 - accuracy: 0.7757 - val_loss: 0.8691 - val_accuracy: 0.5047\n",
            "Epoch 49/50\n",
            "391/391 [==============================] - 6s 15ms/step - loss: 0.4660 - accuracy: 0.7776 - val_loss: 0.8542 - val_accuracy: 0.5090\n",
            "Epoch 50/50\n",
            "391/391 [==============================] - 4s 11ms/step - loss: 0.4643 - accuracy: 0.7746 - val_loss: 0.8549 - val_accuracy: 0.5042\n"
          ]
        },
        {
          "output_type": "execute_result",
          "data": {
            "text/plain": [
              "<keras.callbacks.History at 0x7f2804a88e20>"
            ]
          },
          "metadata": {},
          "execution_count": 13
        }
      ]
    },
    {
      "cell_type": "code",
      "source": [
        "# Evaluate the model\n",
        "loss, accuracy = model.evaluate(X_test, y_test)\n",
        "print(\"Test Loss:\", loss)\n",
        "print(\"Test Accuracy:\", accuracy)"
      ],
      "metadata": {
        "colab": {
          "base_uri": "https://localhost:8080/"
        },
        "id": "zXF8djF78k3N",
        "outputId": "d09db31a-f80e-4648-f75b-dd9cecbfac34"
      },
      "execution_count": null,
      "outputs": [
        {
          "output_type": "stream",
          "name": "stdout",
          "text": [
            "782/782 [==============================] - 2s 2ms/step - loss: 0.7115 - accuracy: 0.5072\n",
            "Test Loss: 0.7115329504013062\n",
            "Test Accuracy: 0.5072000026702881\n"
          ]
        }
      ]
    }
  ]
}