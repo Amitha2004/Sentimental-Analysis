{
  "cells": [
    {
      "cell_type": "code",
      "execution_count": null,
      "metadata": {
        "id": "OebVlxCpNI9c"
      },
      "outputs": [],
      "source": [
        "import tensorflow as tf\n",
        "from tensorflow.keras.datasets import imdb\n",
        "from tensorflow.keras.preprocessing.sequence import pad_sequences"
      ]
    },
    {
      "cell_type": "code",
      "execution_count": null,
      "metadata": {
        "id": "FetoghuJNOUs"
      },
      "outputs": [],
      "source": [
        "VOCAB_SIZE = 5000\n",
        "MAXLEN = 400\n",
        "EMBEDDING_DIM = 50\n",
        "(x_train, y_train), (x_test, y_test) = imdb.load_data(num_words=VOCAB_SIZE)"
      ]
    },
    {
      "cell_type": "code",
      "execution_count": null,
      "metadata": {
        "id": "iU7883ugNR5s"
      },
      "outputs": [],
      "source": [
        "# Pad the sequences\n",
        "x_train = pad_sequences(x_train, maxlen=MAXLEN, padding='post')\n",
        "x_test = pad_sequences(x_test, maxlen=MAXLEN, padding='post')"
      ]
    },
    {
      "cell_type": "code",
      "execution_count": null,
      "metadata": {
        "id": "Jzar7q88NWOy"
      },
      "outputs": [],
      "source": [
        "# Build the model\n",
        "model = tf.keras.Sequential([\n",
        "    tf.keras.layers.Embedding(VOCAB_SIZE, EMBEDDING_DIM, input_length=MAXLEN),\n",
        "    tf.keras.layers.Conv1D(128, 5, activation='relu'),\n",
        "    tf.keras.layers.MaxPooling1D(pool_size=4),\n",
        "    tf.keras.layers.LSTM(128, dropout=0.2, recurrent_dropout=0.2),\n",
        "    tf.keras.layers.Dense(1, activation='sigmoid')\n",
        "])\n"
      ]
    },
    {
      "cell_type": "code",
      "execution_count": null,
      "metadata": {
        "id": "zSUpPM4hNdvP"
      },
      "outputs": [],
      "source": [
        "model.compile(loss='binary_crossentropy', optimizer='adam', metrics=['accuracy'])"
      ]
    },
    {
      "cell_type": "code",
      "execution_count": null,
      "metadata": {
        "colab": {
          "background_save": true,
          "base_uri": "https://localhost:8080/"
        },
        "id": "UgVFIl7qNe39",
        "outputId": "5fd517ee-4afe-477b-eec1-3c36c9d0fe1b"
      },
      "outputs": [
        {
          "name": "stdout",
          "output_type": "stream",
          "text": [
            "Epoch 1/5\n",
            "391/391 [==============================] - 240s 604ms/step - loss: 0.6682 - accuracy: 0.5629 - val_loss: 0.6090 - val_accuracy: 0.6946\n",
            "Epoch 2/5\n",
            "391/391 [==============================] - 238s 609ms/step - loss: 0.6317 - accuracy: 0.6124 - val_loss: 0.5418 - val_accuracy: 0.7476\n",
            "Epoch 3/5\n",
            "391/391 [==============================] - 239s 611ms/step - loss: 0.3474 - accuracy: 0.8520 - val_loss: 0.5884 - val_accuracy: 0.6813\n",
            "Epoch 4/5\n",
            "391/391 [==============================] - 240s 614ms/step - loss: 0.2530 - accuracy: 0.9029 - val_loss: 0.2861 - val_accuracy: 0.8823\n",
            "Epoch 5/5\n",
            "391/391 [==============================] - 240s 614ms/step - loss: 0.1967 - accuracy: 0.9273 - val_loss: 0.3055 - val_accuracy: 0.8820\n"
          ]
        },
        {
          "data": {
            "text/plain": [
              "<keras.src.callbacks.History at 0x7842fa71e4a0>"
            ]
          },
          "execution_count": 8,
          "metadata": {},
          "output_type": "execute_result"
        }
      ],
      "source": [
        "model.fit(x_train, y_train, validation_data=(x_test, y_test), epochs=5, batch_size=64)"
      ]
    },
    {
      "cell_type": "code",
      "execution_count": null,
      "metadata": {
        "id": "cGnNS6FhNpDW"
      },
      "outputs": [],
      "source": [
        "# Evaluate\n",
        "loss, acc = model.evaluate(x_test, y_test, verbose=2)\n",
        "print(f\"Test accuracy: {acc}\")\n",
        "print(f\"Test loss : {loss}\")"
      ]
    }
  ],
  "metadata": {
    "colab": {
      "provenance": []
    },
    "kernelspec": {
      "display_name": "Python 3",
      "name": "python3"
    },
    "language_info": {
      "name": "python"
    }
  },
  "nbformat": 4,
  "nbformat_minor": 0
}